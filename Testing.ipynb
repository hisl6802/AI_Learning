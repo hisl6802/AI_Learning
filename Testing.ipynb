{
 "cells": [
  {
   "cell_type": "code",
   "execution_count": null,
   "metadata": {},
   "outputs": [],
   "source": [
    "# Video Generation with TGAN\n",
    "*Please note that this is an optional notebook that is meant to introduce more advanced concepts, if you're up for a challenge. So, don't worry if you don't completely follow every step! We provide external resources for extra base knowledge required to grasp some components of the advanced material.*\n",
    "\n",
    "In this notebook, you're going to learn about TGAN, from the paper [Temporal Generative Adversarial Nets with Singular Value Clipping](https://arxiv.org/abs/1611.06624) (Saito, Matsumoto, & Saito, 2017), and its origins in image generation. Here's the quick version: \n",
    "\n",
    "1. **Two Generators** TGAN is the first work within video generation that uses two distinct generators: a temporal generator and an image generator. The temporal generator produces temporal latent vectors $\\vec{z}_t$s which were transformed by the image generator $G_i$. Works after adopt similar approaches.\n",
    "\n",
    "\n",
    "2. **Created an Inception Score Benchmark** At the time, the most common quantitative comparison method was the Inception Score (IS). For a GAN trained on ImageNet, to calculate the IS one needs a pretrained Inception model. For videos, there was no comparable model to Inception, hence the authors proposed the usage of a C3D model trained on the UCF101 dataset. Using this pre-trained model they established a common method for calculating IS for video generation.\n",
    "\n",
    "\n",
    "3. **Singular Value Clipping (SVC)** To enforce a 1-Lipschitz constraint on the discriminator, the authors propose clipping the singular values on the convolutional and linear layers. After every 5 epochs they perform [Singular Value Decomposition](https://en.wikipedia.org/wiki/Singular_value_decomposition) on the weight matrices and enforce the following algorithm: <br /> $\\begin{gather}U \\Sigma V^* = W \\\\ \\Sigma_{ii} := \\min(\\Sigma_{ii}, 1) \\\\ W := U \\Sigma V^* \\end{gather}$ <br /> In their experiments they showed TGAN trained with SVC outperforms the normal GAN setup."
   ]
  }
 ],
 "metadata": {
  "language_info": {
   "name": "python"
  },
  "orig_nbformat": 4
 },
 "nbformat": 4,
 "nbformat_minor": 2
}
